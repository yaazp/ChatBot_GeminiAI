{
 "cells": [
  {
   "cell_type": "markdown",
   "metadata": {},
   "source": [
    "1. Instalando o SDK do Google"
   ]
  },
  {
   "cell_type": "code",
   "execution_count": 1,
   "metadata": {},
   "outputs": [
    {
     "name": "stdout",
     "output_type": "stream",
     "text": [
      "Note: you may need to restart the kernel to use updated packages.\n"
     ]
    },
    {
     "name": "stderr",
     "output_type": "stream",
     "text": [
      "  WARNING: The script tqdm.exe is installed in 'c:\\Users\\yasmi\\AppData\\Local\\Programs\\Python\\Python39\\Scripts' which is not on PATH.\n",
      "  Consider adding this directory to PATH or, if you prefer to suppress this warning, use --no-warn-script-location.\n",
      "  WARNING: The script normalizer.exe is installed in 'c:\\Users\\yasmi\\AppData\\Local\\Programs\\Python\\Python39\\Scripts' which is not on PATH.\n",
      "  Consider adding this directory to PATH or, if you prefer to suppress this warning, use --no-warn-script-location.\n",
      "  WARNING: The scripts pyrsa-decrypt.exe, pyrsa-encrypt.exe, pyrsa-keygen.exe, pyrsa-priv2pub.exe, pyrsa-sign.exe and pyrsa-verify.exe are installed in 'c:\\Users\\yasmi\\AppData\\Local\\Programs\\Python\\Python39\\Scripts' which is not on PATH.\n",
      "  Consider adding this directory to PATH or, if you prefer to suppress this warning, use --no-warn-script-location.\n",
      "WARNING: You are using pip version 22.0.4; however, version 24.0 is available.\n",
      "You should consider upgrading via the 'c:\\Users\\yasmi\\AppData\\Local\\Programs\\Python\\Python39\\python.exe -m pip install --upgrade pip' command.\n"
     ]
    }
   ],
   "source": [
    "%pip install -q -U google-generativeai"
   ]
  },
  {
   "cell_type": "markdown",
   "metadata": {},
   "source": [
    "2. Importar a biblioteca e configurar a API KEY"
   ]
  },
  {
   "cell_type": "code",
   "execution_count": 2,
   "metadata": {},
   "outputs": [
    {
     "name": "stderr",
     "output_type": "stream",
     "text": [
      "c:\\Users\\yasmi\\AppData\\Local\\Programs\\Python\\Python39\\lib\\site-packages\\tqdm\\auto.py:21: TqdmWarning: IProgress not found. Please update jupyter and ipywidgets. See https://ipywidgets.readthedocs.io/en/stable/user_install.html\n",
      "  from .autonotebook import tqdm as notebook_tqdm\n"
     ]
    }
   ],
   "source": [
    "import google.generativeai as genai\n",
    "\n",
    "API_KEY = \"XXXXXXXXXXXXXXXXXXXXXXXXXX\" # inclua a sua API KEY do GeminiAI\n",
    "genai.configure(api_key= API_KEY)\n",
    "\n",
    "# Set up the model\n",
    "#generation_config = {\n",
    "#  \"temperature\": 1,\n",
    "#  \"top_p\": 0.95,\n",
    "#  \"top_k\": 64,\n",
    "#  \"max_output_tokens\": 8192,\n",
    "#}\n",
    "\n",
    "#safety_settings = [\n",
    "#  {\n",
    "#    \"category\": \"HARM_CATEGORY_HARASSMENT\",\n",
    "#    \"threshold\": \"BLOCK_MEDIUM_AND_ABOVE\"\n",
    "#  },\n",
    "#  {\n",
    "#    \"category\": \"HARM_CATEGORY_HATE_SPEECH\",\n",
    "#    \"threshold\": \"BLOCK_MEDIUM_AND_ABOVE\"\n",
    "#  },\n",
    "#  {\n",
    "#    \"category\": \"HARM_CATEGORY_SEXUALLY_EXPLICIT\",\n",
    "#    \"threshold\": \"BLOCK_MEDIUM_AND_ABOVE\"\n",
    "#  },\n",
    "#  {\n",
    "#    \"category\": \"HARM_CATEGORY_DANGEROUS_CONTENT\",\n",
    "#    \"threshold\": \"BLOCK_MEDIUM_AND_ABOVE\"\n",
    "#  },\n",
    "#]\n",
    "\n",
    "#model = genai.GenerativeModel(model_name=\"gemini-1.5-pro-latest\",\n",
    "#                              generation_config=generation_config,\n",
    "#                              safety_settings=safety_settings)\n",
    "\n",
    "#convo = model.start_chat(history=[\n",
    "#])\n",
    "\n",
    "#convo.send_message(\"YOUR_USER_INPUT\")\n",
    "#print(convo.last.text)"
   ]
  },
  {
   "cell_type": "markdown",
   "metadata": {},
   "source": [
    "3. Listar os modelos da AI disponíveis\n",
    "Em caso de dúvida de qual versão é a última, o atalho latest aponta direto para ela."
   ]
  },
  {
   "cell_type": "code",
   "execution_count": 3,
   "metadata": {},
   "outputs": [
    {
     "name": "stdout",
     "output_type": "stream",
     "text": [
      "models/gemini-1.0-pro\n",
      "models/gemini-1.0-pro-001\n",
      "models/gemini-1.0-pro-latest\n",
      "models/gemini-1.0-pro-vision-latest\n",
      "models/gemini-1.5-flash-latest\n",
      "models/gemini-1.5-pro-latest\n",
      "models/gemini-pro\n",
      "models/gemini-pro-vision\n"
     ]
    }
   ],
   "source": [
    "for m in genai.list_models():\n",
    "    if 'generateContent' in m.supported_generation_methods:\n",
    "        print (m.name)"
   ]
  },
  {
   "cell_type": "markdown",
   "metadata": {},
   "source": [
    "4. Configuração do modelo e segurança"
   ]
  },
  {
   "cell_type": "markdown",
   "metadata": {},
   "source": [
    "Configurações do modelo:\n",
    "\n",
    "candidate_count --> o número de respostas para um pedido (pode acontecer em algumas situações)\n",
    "temperature --> entre 0 e 1. quanto mais próximo do 1 mais criativo"
   ]
  },
  {
   "cell_type": "code",
   "execution_count": 4,
   "metadata": {},
   "outputs": [],
   "source": [
    "generation_config = {\n",
    "    \"candidate_count\": 1,\n",
    "    \"temperature\": 0.5,\n",
    "}"
   ]
  },
  {
   "cell_type": "markdown",
   "metadata": {},
   "source": [
    "Configurações de segurança do modelo:\n",
    " \n",
    " exemplo: \n",
    " safety_settings =\n",
    " [\n",
    "  {\n",
    "    \"category\": \"HARM_CATEGORY_HARASSMENT\",\n",
    "    \"threshold\": \"BLOCK_MEDIUM_AND_ABOVE\"\n",
    "  },\n",
    "  {\n",
    "    \"category\": \"HARM_CATEGORY_HATE_SPEECH\",\n",
    "    \"threshold\": \"BLOCK_MEDIUM_AND_ABOVE\"\n",
    "  },\n",
    "  {\n",
    "    \"category\": \"HARM_CATEGORY_SEXUALLY_EXPLICIT\",\n",
    "    \"threshold\": \"BLOCK_MEDIUM_AND_ABOVE\"\n",
    "  },\n",
    "  {\n",
    "    \"category\": \"HARM_CATEGORY_DANGEROUS_CONTENT\",\n",
    "    \"threshold\": \"BLOCK_MEDIUM_AND_ABOVE\"\n",
    "  },\n",
    "]"
   ]
  },
  {
   "cell_type": "code",
   "execution_count": 5,
   "metadata": {},
   "outputs": [],
   "source": [
    "safety_settings = {\n",
    "    \"HARASSMENT\": \"BLOCK_NONE\",\n",
    "    \"HATE\": \"BLOCK_NONE\",\n",
    "    \"SEXUAL\": \"BLOCK_NONE\",\n",
    "    \"DANGEROUS\":\"BLOCK_NONE\"\n",
    "}"
   ]
  },
  {
   "cell_type": "markdown",
   "metadata": {},
   "source": [
    "5. Inicializar o modelo \n",
    "Neste caso vamos usar o 1.0 pro pois neste momento o 1.5 não aceita as configurações de modelo"
   ]
  },
  {
   "cell_type": "code",
   "execution_count": 6,
   "metadata": {},
   "outputs": [],
   "source": [
    "model = genai.GenerativeModel(model_name= \"gemini-1.0-pro\",\n",
    "                              generation_config = generation_config, \n",
    "                              safety_settings = safety_settings)"
   ]
  },
  {
   "cell_type": "code",
   "execution_count": 7,
   "metadata": {},
   "outputs": [
    {
     "name": "stdout",
     "output_type": "stream",
     "text": [
      "response:\n",
      "GenerateContentResponse(\n",
      "    done=True,\n",
      "    iterator=None,\n",
      "    result=glm.GenerateContentResponse({\n",
      "      \"candidates\": [\n",
      "        {\n",
      "          \"content\": {\n",
      "            \"parts\": [\n",
      "              {\n",
      "                \"text\": \"**Conceitos Fundamentais**\\n\\n* O que \\u00e9 Intelig\\u00eancia Artificial (IA)?\\n* Tipos de IA: IA Fraca, IA Forte, IA Geral\\n* Aprendizado de M\\u00e1quina (ML), Aprendizado Profundo (DL) e Aprendizado por Refor\\u00e7o (RL)\\n* Redes Neurais e Processamento de Linguagem Natural (PNL)\\n\\n**Aplica\\u00e7\\u00f5es da IA**\\n\\n* Automa\\u00e7\\u00e3o e Otimiza\\u00e7\\u00e3o de Processos\\n* Reconhecimento de Padr\\u00f5es e An\\u00e1lise Preditiva\\n* Diagn\\u00f3stico e Tratamento M\\u00e9dico\\n* Ve\\u00edculos Aut\\u00f4nomos e Rob\\u00f3tica\\n* Assistentes Pessoais e Chatbots\\n\\n**Implica\\u00e7\\u00f5es \\u00c9ticas e Sociais**\\n\\n* Preocupa\\u00e7\\u00f5es com Privacidade e Seguran\\u00e7a\\n* Vi\\u00e9s e Discrimina\\u00e7\\u00e3o em Sistemas de IA\\n* Impacto no Emprego e na Sociedade\\n* Regulamenta\\u00e7\\u00f5es e Diretrizes \\u00c9ticas\\n\\n**Desenvolvimento e Implementa\\u00e7\\u00e3o de IA**\\n\\n* Coleta e Prepara\\u00e7\\u00e3o de Dados\\n* Sele\\u00e7\\u00e3o e Treinamento de Modelos\\n* Avalia\\u00e7\\u00e3o e Otimiza\\u00e7\\u00e3o de Desempenho\\n* Arquitetura e Infraestrutura de IA\\n* Integra\\u00e7\\u00e3o com Sistemas Existentes\\n\\n**Tend\\u00eancias e Avan\\u00e7os**\\n\\n* IA Conversacional e Interativa\\n* Aprendizado Federado e Aprendizado de Transfer\\u00eancia\\n* IA Respons\\u00e1vel e Explic\\u00e1vel\\n* IA Qu\\u00e2ntica e Computa\\u00e7\\u00e3o Cognitiva\\n\\n**Recursos Adicionais**\\n\\n* Cursos online: Coursera, edX, Udemy\\n* Livros: \\\"Intelig\\u00eancia Artificial: Uma Abordagem Moderna\\\" (Stuart Russell e Peter Norvig), \\\"Aprendizado de M\\u00e1quina\\\" (Tom Mitchell)\\n* Revistas e Publica\\u00e7\\u00f5es: Nature Machine Intelligence, Journal of Artificial Intelligence Research\\n* Comunidades e Eventos: AI Summit, NeurIPS, ICML\"\n",
      "              }\n",
      "            ],\n",
      "            \"role\": \"model\"\n",
      "          },\n",
      "          \"finish_reason\": 1,\n",
      "          \"index\": 0,\n",
      "          \"safety_ratings\": [\n",
      "            {\n",
      "              \"category\": 9,\n",
      "              \"probability\": 1,\n",
      "              \"blocked\": false\n",
      "            },\n",
      "            {\n",
      "              \"category\": 8,\n",
      "              \"probability\": 1,\n",
      "              \"blocked\": false\n",
      "            },\n",
      "            {\n",
      "              \"category\": 7,\n",
      "              \"probability\": 1,\n",
      "              \"blocked\": false\n",
      "            },\n",
      "            {\n",
      "              \"category\": 10,\n",
      "              \"probability\": 1,\n",
      "              \"blocked\": false\n",
      "            }\n",
      "          ],\n",
      "          \"token_count\": 0,\n",
      "          \"grounding_attributions\": []\n",
      "        }\n",
      "      ]\n",
      "    }),\n",
      ")\n"
     ]
    }
   ],
   "source": [
    "resposta = model.generate_content(\"Vamos aprender conteúdos sobre IA. Me dê sugestões\")\n",
    "print(resposta)"
   ]
  },
  {
   "cell_type": "code",
   "execution_count": 8,
   "metadata": {},
   "outputs": [
    {
     "name": "stdout",
     "output_type": "stream",
     "text": [
      "**Conceitos Fundamentais**\n",
      "\n",
      "* O que é Inteligência Artificial (IA)?\n",
      "* Tipos de IA: IA Fraca, IA Forte, IA Geral\n",
      "* Aprendizado de Máquina (ML), Aprendizado Profundo (DL) e Aprendizado por Reforço (RL)\n",
      "* Redes Neurais e Processamento de Linguagem Natural (PNL)\n",
      "\n",
      "**Aplicações da IA**\n",
      "\n",
      "* Automação e Otimização de Processos\n",
      "* Reconhecimento de Padrões e Análise Preditiva\n",
      "* Diagnóstico e Tratamento Médico\n",
      "* Veículos Autônomos e Robótica\n",
      "* Assistentes Pessoais e Chatbots\n",
      "\n",
      "**Implicações Éticas e Sociais**\n",
      "\n",
      "* Preocupações com Privacidade e Segurança\n",
      "* Viés e Discriminação em Sistemas de IA\n",
      "* Impacto no Emprego e na Sociedade\n",
      "* Regulamentações e Diretrizes Éticas\n",
      "\n",
      "**Desenvolvimento e Implementação de IA**\n",
      "\n",
      "* Coleta e Preparação de Dados\n",
      "* Seleção e Treinamento de Modelos\n",
      "* Avaliação e Otimização de Desempenho\n",
      "* Arquitetura e Infraestrutura de IA\n",
      "* Integração com Sistemas Existentes\n",
      "\n",
      "**Tendências e Avanços**\n",
      "\n",
      "* IA Conversacional e Interativa\n",
      "* Aprendizado Federado e Aprendizado de Transferência\n",
      "* IA Responsável e Explicável\n",
      "* IA Quântica e Computação Cognitiva\n",
      "\n",
      "**Recursos Adicionais**\n",
      "\n",
      "* Cursos online: Coursera, edX, Udemy\n",
      "* Livros: \"Inteligência Artificial: Uma Abordagem Moderna\" (Stuart Russell e Peter Norvig), \"Aprendizado de Máquina\" (Tom Mitchell)\n",
      "* Revistas e Publicações: Nature Machine Intelligence, Journal of Artificial Intelligence Research\n",
      "* Comunidades e Eventos: AI Summit, NeurIPS, ICML\n"
     ]
    }
   ],
   "source": [
    "print(resposta.text)"
   ]
  },
  {
   "cell_type": "markdown",
   "metadata": {},
   "source": [
    "6. Iniciando o chatbot"
   ]
  },
  {
   "cell_type": "markdown",
   "metadata": {},
   "source": [
    "Guardando histórico"
   ]
  },
  {
   "cell_type": "code",
   "execution_count": 9,
   "metadata": {},
   "outputs": [],
   "source": [
    "chat = model.start_chat(history=[])"
   ]
  },
  {
   "cell_type": "markdown",
   "metadata": {},
   "source": [
    "Criando a variável de entrada da pergunta"
   ]
  },
  {
   "cell_type": "code",
   "execution_count": 10,
   "metadata": {},
   "outputs": [
    {
     "name": "stdout",
     "output_type": "stream",
     "text": [
      "Pergunta:  quando foi criado american dad \n",
      "\n",
      "Resposta:  6 de fevereiro de 2005 \n",
      "\n",
      "Pergunta:  quais são os principais personagens do desenho \n",
      "\n",
      "Resposta:  * **Stan Smith** - Um agente da CIA patriota, conservador e hipermasculino.\n",
      "* **Francine Smith** - A esposa de Stan, uma dona de casa liberal e progressista.\n",
      "* **Hayley Smith** - A filha mais velha de Stan e Francine, uma ativista ambiental e socialmente consciente.\n",
      "* **Steve Smith** - O filho mais novo de Stan e Francine, um adolescente nerd e socialmente desajeitado.\n",
      "* **Roger** - Um alienígena disfarçado que vive com a família Smith. Ele é pansexual, extravagante e muitas vezes assume diferentes personas.\n",
      "* **Klaus Heissler** - Um peixe dourado geneticamente modificado com o cérebro de um esquiador olímpico alemão. Ele vive em um aquário na sala de estar. \n",
      "\n",
      "Pergunta:  quero ver uma foto de cada um \n",
      "\n",
      "Resposta:  **Stan Smith**\n",
      "\n",
      "[Image of Stan Smith from American Dad]\n",
      "\n",
      "**Francine Smith**\n",
      "\n",
      "[Image of Francine Smith from American Dad]\n",
      "\n",
      "**Hayley Smith**\n",
      "\n",
      "[Image of Hayley Smith from American Dad]\n",
      "\n",
      "**Steve Smith**\n",
      "\n",
      "[Image of Steve Smith from American Dad]\n",
      "\n",
      "**Roger**\n",
      "\n",
      "[Image of Roger from American Dad]\n",
      "\n",
      "**Klaus Heissler**\n",
      "\n",
      "[Image of Klaus Heissler from American Dad] \n",
      "\n",
      "Pergunta:  quantos episódios foram feitos \n",
      "\n",
      "Resposta:  Até 22 de fevereiro de 2023, foram produzidos **318 episódios** de American Dad.\n",
      "\n",
      "A série foi renovada para uma 20ª temporada, que estreará em 2024. \n",
      "\n"
     ]
    }
   ],
   "source": [
    "prompt = input(\"Esperando prompt: \")\n",
    "\n",
    "while prompt != \"fim\":\n",
    "    resposta = chat.send_message(prompt) # neste caso estamos usando a variável chat que foi criada antes\n",
    "    print(\"Pergunta: \", prompt, \"\\n\")\n",
    "    print(\"Resposta: \", resposta.text, \"\\n\")\n",
    "    prompt = input(\"Esperando prompt: \")   "
   ]
  },
  {
   "cell_type": "code",
   "execution_count": 14,
   "metadata": {},
   "outputs": [
    {
     "name": "stdout",
     "output_type": "stream",
     "text": [
      "[parts {\n",
      "  text: \"quando foi criado american dad\"\n",
      "}\n",
      "role: \"user\"\n",
      ", parts {\n",
      "  text: \"6 de fevereiro de 2005\"\n",
      "}\n",
      "role: \"model\"\n",
      ", parts {\n",
      "  text: \"quais são os principais personagens do desenho\"\n",
      "}\n",
      "role: \"user\"\n",
      ", parts {\n",
      "  text: \"* **Stan Smith** - Um agente da CIA patriota, conservador e hipermasculino.\\n* **Francine Smith** - A esposa de Stan, uma dona de casa liberal e progressista.\\n* **Hayley Smith** - A filha mais velha de Stan e Francine, uma ativista ambiental e socialmente consciente.\\n* **Steve Smith** - O filho mais novo de Stan e Francine, um adolescente nerd e socialmente desajeitado.\\n* **Roger** - Um alienígena disfarçado que vive com a família Smith. Ele é pansexual, extravagante e muitas vezes assume diferentes personas.\\n* **Klaus Heissler** - Um peixe dourado geneticamente modificado com o cérebro de um esquiador olímpico alemão. Ele vive em um aquário na sala de estar.\"\n",
      "}\n",
      "role: \"model\"\n",
      ", parts {\n",
      "  text: \"quero ver uma foto de cada um\"\n",
      "}\n",
      "role: \"user\"\n",
      ", parts {\n",
      "  text: \"**Stan Smith**\\n\\n[Image of Stan Smith from American Dad]\\n\\n**Francine Smith**\\n\\n[Image of Francine Smith from American Dad]\\n\\n**Hayley Smith**\\n\\n[Image of Hayley Smith from American Dad]\\n\\n**Steve Smith**\\n\\n[Image of Steve Smith from American Dad]\\n\\n**Roger**\\n\\n[Image of Roger from American Dad]\\n\\n**Klaus Heissler**\\n\\n[Image of Klaus Heissler from American Dad]\"\n",
      "}\n",
      "role: \"model\"\n",
      ", parts {\n",
      "  text: \"quantos episódios foram feitos\"\n",
      "}\n",
      "role: \"user\"\n",
      ", parts {\n",
      "  text: \"Até 22 de fevereiro de 2023, foram produzidos **318 episódios** de American Dad.\\n\\nA série foi renovada para uma 20ª temporada, que estreará em 2024.\"\n",
      "}\n",
      "role: \"model\"\n",
      "]\n"
     ]
    }
   ],
   "source": [
    "print(chat.history)"
   ]
  },
  {
   "cell_type": "markdown",
   "metadata": {},
   "source": [
    "O código que você forneceu é escrito em Python.  O código é um exemplo simples de como formatar e imprimir um histórico de mensagens em Python, com os seguintes passos:\n",
    "\n",
    "1.  **Importando bibliotecas:**\n",
    "    *   `import textwrap`: importa a biblioteca `textwrap` para ajustar o texto.\n",
    "    *   `from IPython.display import display`: importa a função `display` da biblioteca `IPython.display` para exibir os resultados no Jupyter Notebook.\n",
    "    *   `from IPython.display import Markdown`: importa a função `Markdown` da biblioteca `IPython.display` para renderizar texto como Markdown.\n",
    "\n",
    "2.  **Definindo a função `to_markdown()`:**\n",
    "    *   A função `to_markdown()` converte um texto em Markdown, usando o `textwrap` para ajustar a largura da linha e a função `Markdown` para renderizar o texto em Markdown.\n",
    "\n",
    "3.  **Imprimindo o histórico:**\n",
    "    *   O loop `for` itera sobre as mensagens no histórico de bate-papo (`chat_history`).\n",
    "    *   Dentro do loop, para cada mensagem:\n",
    "        *   `display(to_markdown(...))`: chama a função `to_markdown()` para converter o texto da mensagem em Markdown e usar `display` para exibir no notebook.\n",
    "\n",
    "**Resumindo, este código formata as mensagens de um histórico de bate-papo em Markdown para renderizar na tela do Jupyter Notebook.**"
   ]
  },
  {
   "cell_type": "code",
   "execution_count": 11,
   "metadata": {},
   "outputs": [
    {
     "data": {
      "text/markdown": [
       "> **user**:\n",
       "> quando foi criado american dad"
      ],
      "text/plain": [
       "<IPython.core.display.Markdown object>"
      ]
     },
     "metadata": {},
     "output_type": "display_data"
    },
    {
     "data": {
      "text/markdown": [
       "> **model**:\n",
       "> 6 de fevereiro de 2005"
      ],
      "text/plain": [
       "<IPython.core.display.Markdown object>"
      ]
     },
     "metadata": {},
     "output_type": "display_data"
    },
    {
     "data": {
      "text/markdown": [
       "> **user**:\n",
       "> quais são os principais personagens do desenho"
      ],
      "text/plain": [
       "<IPython.core.display.Markdown object>"
      ]
     },
     "metadata": {},
     "output_type": "display_data"
    },
    {
     "data": {
      "text/markdown": [
       "> **model**:\n",
       "> * **Stan Smith** - Um agente da CIA patriota, conservador e hipermasculino.\n",
       "> * **Francine Smith** - A esposa de Stan, uma dona de casa liberal e progressista.\n",
       "> * **Hayley Smith** - A filha mais velha de Stan e Francine, uma ativista ambiental e socialmente consciente.\n",
       "> * **Steve Smith** - O filho mais novo de Stan e Francine, um adolescente nerd e socialmente desajeitado.\n",
       "> * **Roger** - Um alienígena disfarçado que vive com a família Smith. Ele é pansexual, extravagante e muitas vezes assume diferentes personas.\n",
       "> * **Klaus Heissler** - Um peixe dourado geneticamente modificado com o cérebro de um esquiador olímpico alemão. Ele vive em um aquário na sala de estar."
      ],
      "text/plain": [
       "<IPython.core.display.Markdown object>"
      ]
     },
     "metadata": {},
     "output_type": "display_data"
    },
    {
     "data": {
      "text/markdown": [
       "> **user**:\n",
       "> quero ver uma foto de cada um"
      ],
      "text/plain": [
       "<IPython.core.display.Markdown object>"
      ]
     },
     "metadata": {},
     "output_type": "display_data"
    },
    {
     "data": {
      "text/markdown": [
       "> **model**:\n",
       "> **Stan Smith**\n",
       "> \n",
       "> [Image of Stan Smith from American Dad]\n",
       "> \n",
       "> **Francine Smith**\n",
       "> \n",
       "> [Image of Francine Smith from American Dad]\n",
       "> \n",
       "> **Hayley Smith**\n",
       "> \n",
       "> [Image of Hayley Smith from American Dad]\n",
       "> \n",
       "> **Steve Smith**\n",
       "> \n",
       "> [Image of Steve Smith from American Dad]\n",
       "> \n",
       "> **Roger**\n",
       "> \n",
       "> [Image of Roger from American Dad]\n",
       "> \n",
       "> **Klaus Heissler**\n",
       "> \n",
       "> [Image of Klaus Heissler from American Dad]"
      ],
      "text/plain": [
       "<IPython.core.display.Markdown object>"
      ]
     },
     "metadata": {},
     "output_type": "display_data"
    },
    {
     "data": {
      "text/markdown": [
       "> **user**:\n",
       "> quantos episódios foram feitos"
      ],
      "text/plain": [
       "<IPython.core.display.Markdown object>"
      ]
     },
     "metadata": {},
     "output_type": "display_data"
    },
    {
     "data": {
      "text/markdown": [
       "> **model**:\n",
       "> Até 22 de fevereiro de 2023, foram produzidos **318 episódios** de American Dad.\n",
       "> \n",
       "> A série foi renovada para uma 20ª temporada, que estreará em 2024."
      ],
      "text/plain": [
       "<IPython.core.display.Markdown object>"
      ]
     },
     "metadata": {},
     "output_type": "display_data"
    },
    {
     "name": "stdout",
     "output_type": "stream",
     "text": [
      "---------------------------------------------------\n"
     ]
    }
   ],
   "source": [
    "#Melhorando a visualização\n",
    "#Código disponível em https://ai.google.dev/tutorials/python_quickstart#import_packages\n",
    "import textwrap\n",
    "from IPython.display import display\n",
    "from IPython.display import Markdown\n",
    "\n",
    "def to_markdown(text):\n",
    "  text = text.replace('`', '**')\n",
    "  return Markdown(textwrap.indent(text, '> ', predicate=lambda _: True))\n",
    "\n",
    "#Imprimindo o histórico\n",
    "for message in chat.history:\n",
    "  display(to_markdown(f'**{message.role}**:\\n{message.parts[0].text}'))\n",
    "print('---------------------------------------------------')"
   ]
  }
 ],
 "metadata": {
  "kernelspec": {
   "display_name": "Python 3",
   "language": "python",
   "name": "python3"
  },
  "language_info": {
   "codemirror_mode": {
    "name": "ipython",
    "version": 3
   },
   "file_extension": ".py",
   "mimetype": "text/x-python",
   "name": "python",
   "nbconvert_exporter": "python",
   "pygments_lexer": "ipython3",
   "version": "3.9.13"
  }
 },
 "nbformat": 4,
 "nbformat_minor": 2
}
